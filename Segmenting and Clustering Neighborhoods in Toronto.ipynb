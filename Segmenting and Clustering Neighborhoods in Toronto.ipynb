{
 "cells": [
  {
   "cell_type": "markdown",
   "metadata": {},
   "source": [
    "# Web Scraping"
   ]
  },
  {
   "cell_type": "code",
   "execution_count": 48,
   "metadata": {},
   "outputs": [
    {
     "data": {
      "text/plain": [
       "(180, 3)"
      ]
     },
     "execution_count": 48,
     "metadata": {},
     "output_type": "execute_result"
    }
   ],
   "source": [
    "#Web scraping tutorial\n",
    "# https://simpleanalytical.com/how-to-web-scrape-wikipedia-python-urllib-beautiful-soup-pandas\n",
    "    \n",
    "# import the library we use to open URLs\n",
    "import urllib.request\n",
    "\n",
    "# specify which URL/web page we are going to be scraping\n",
    "url = \"https://en.wikipedia.org/wiki/List_of_postal_codes_of_Canada:_M\"\n",
    "\n",
    "# open the url using urllib.request and put the HTML into the page variable\n",
    "page = urllib.request.urlopen(url)\n",
    "\n",
    "# import the BeautifulSoup library so we can parse HTML and XML documents\n",
    "from bs4 import BeautifulSoup\n",
    "\n",
    "# parse the HTML from our URL into the BeautifulSoup parse tree format\n",
    "soup = BeautifulSoup(page, \"lxml\")\n",
    "\n",
    "# use the 'find_all' function to bring back all instances of the 'table' tag in the HTML and store in 'all_tables' variable\n",
    "all_tables=soup.find_all(\"table\")\n",
    "# all_tables\n",
    "\n",
    "right_table=soup.find('table', class_='wikitable sortable')\n",
    "# right_table\n",
    "\n",
    "#Import the data from the table \n",
    "A=[]\n",
    "B=[]\n",
    "C=[]\n",
    "\n",
    "for row in right_table.findAll('tr'):   #tr tag specifies a row in HTML \n",
    "    cells=row.findAll('td')             #td tag defines the cell of the table\n",
    "    if len(cells) == 3 and cells[1].find(text = True) != 'Not assigned':\n",
    "        A.append(cells[0].find(text=True))\n",
    "        B.append(cells[1].find(text=True))\n",
    "        C.append(cells[2].find(text=True))\n",
    "\n",
    "# print(A)\n",
    "# print(B)\n",
    "# print(C)\n",
    "\n",
    "import pandas as pd\n",
    "import numpy as np\n",
    "\n",
    "#Dataframe consists of three columns\n",
    "df = pd.DataFrame(A, columns = ['Postal Code'])\n",
    "df['Borough'] = B\n",
    "df['Neighborhood'] = C\n",
    "df.shape #(180,3)"
   ]
  },
  {
   "cell_type": "markdown",
   "metadata": {},
   "source": [
    "# Data Cleaning"
   ]
  },
  {
   "cell_type": "code",
   "execution_count": 56,
   "metadata": {},
   "outputs": [
    {
     "data": {
      "text/plain": [
       "(103, 3)"
      ]
     },
     "execution_count": 56,
     "metadata": {},
     "output_type": "execute_result"
    }
   ],
   "source": [
    "#Only process the cells that have an assigned borough. Ignore cells with a borough that is Not assigned.\n",
    "df = df.replace('Not assigned',np.nan, regex=True)\n",
    "df.dropna(subset=[\"Borough\"], axis=0, inplace=True)\n",
    "df = df.reset_index(drop=True)\n",
    "\n",
    "#If a cell has a borough but a Not assigned neighborhood, then the neighborhood will be the same as the borough.\n",
    "\n",
    "#Checking to see if there are any with Neighborhood as 'Not assigned'; there are zero records\n",
    "df[df['Neighborhood'] == 'Not Assigned'] \n",
    "df['Neighborhood'].isnull().sum()\n",
    "\n",
    "#If there would be any Neighborhood with 'Not assigned', then replace with Borough value\n",
    "df['Neighborhood']=df['Neighborhood'].replace('Not assigned', df['Borough'])\n",
    "\n",
    "# df.head()\n",
    "df.shape"
   ]
  },
  {
   "cell_type": "code",
   "execution_count": null,
   "metadata": {},
   "outputs": [],
   "source": []
  }
 ],
 "metadata": {
  "kernelspec": {
   "display_name": "Python 3",
   "language": "python",
   "name": "python3"
  },
  "language_info": {
   "codemirror_mode": {
    "name": "ipython",
    "version": 3
   },
   "file_extension": ".py",
   "mimetype": "text/x-python",
   "name": "python",
   "nbconvert_exporter": "python",
   "pygments_lexer": "ipython3",
   "version": "3.7.3"
  }
 },
 "nbformat": 4,
 "nbformat_minor": 2
}
