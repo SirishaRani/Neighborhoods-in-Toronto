{
 "cells": [
  {
   "cell_type": "markdown",
   "metadata": {},
   "source": [
    "# Web Scraping"
   ]
  },
  {
   "cell_type": "code",
   "execution_count": 2,
   "metadata": {},
   "outputs": [
    {
     "data": {
      "text/plain": [
       "(180, 3)"
      ]
     },
     "execution_count": 2,
     "metadata": {},
     "output_type": "execute_result"
    }
   ],
   "source": [
    "#Web scraping tutorial\n",
    "# https://simpleanalytical.com/how-to-web-scrape-wikipedia-python-urllib-beautiful-soup-pandas\n",
    "    \n",
    "# import the library we use to open URLs\n",
    "import urllib.request\n",
    "\n",
    "# specify which URL/web page we are going to be scraping\n",
    "url = \"https://en.wikipedia.org/wiki/List_of_postal_codes_of_Canada:_M\"\n",
    "\n",
    "# open the url using urllib.request and put the HTML into the page variable\n",
    "page = urllib.request.urlopen(url)\n",
    "\n",
    "# import the BeautifulSoup library so we can parse HTML and XML documents\n",
    "from bs4 import BeautifulSoup\n",
    "\n",
    "# parse the HTML from our URL into the BeautifulSoup parse tree format\n",
    "soup = BeautifulSoup(page, \"lxml\")\n",
    "\n",
    "# use the 'find_all' function to bring back all instances of the 'table' tag in the HTML and store in 'all_tables' variable\n",
    "all_tables=soup.find_all(\"table\")\n",
    "# all_tables\n",
    "\n",
    "right_table=soup.find('table', class_='wikitable sortable')\n",
    "# right_table\n",
    "\n",
    "#Import the data from the table \n",
    "A=[]\n",
    "B=[]\n",
    "C=[]\n",
    "\n",
    "for row in right_table.findAll('tr'):   #tr tag specifies a row in HTML \n",
    "    cells=row.findAll('td')             #td tag defines the cell of the table\n",
    "    if len(cells) == 3 and cells[1].find(text = True) != 'Not assigned':\n",
    "        A.append(cells[0].find(text=True))\n",
    "        B.append(cells[1].find(text=True))\n",
    "        C.append(cells[2].find(text=True))\n",
    "\n",
    "# print(A)\n",
    "# print(B)\n",
    "# print(C)\n",
    "\n",
    "import pandas as pd\n",
    "import numpy as np\n",
    "\n",
    "#Dataframe consists of three columns\n",
    "df = pd.DataFrame(A, columns = ['Postal Code'])\n",
    "df['Borough'] = B\n",
    "df['Neighborhood'] = C\n",
    "df.shape #(180,3)"
   ]
  },
  {
   "cell_type": "markdown",
   "metadata": {},
   "source": [
    "# Data Cleaning"
   ]
  },
  {
   "cell_type": "code",
   "execution_count": 3,
   "metadata": {},
   "outputs": [
    {
     "data": {
      "text/plain": [
       "(103, 3)"
      ]
     },
     "execution_count": 3,
     "metadata": {},
     "output_type": "execute_result"
    }
   ],
   "source": [
    "#Only process the cells that have an assigned borough. Ignore cells with a borough that is Not assigned.\n",
    "df = df.replace('Not assigned',np.nan, regex=True)\n",
    "df.dropna(subset=[\"Borough\"], axis=0, inplace=True)\n",
    "df = df.reset_index(drop=True)\n",
    "\n",
    "#If a cell has a borough but a Not assigned neighborhood, then the neighborhood will be the same as the borough.\n",
    "\n",
    "#Checking to see if there are any with Neighborhood as 'Not assigned'; there are zero records\n",
    "df[df['Neighborhood'] == 'Not Assigned'] \n",
    "df['Neighborhood'].isnull().sum()\n",
    "\n",
    "#If there would be any Neighborhood with 'Not assigned', then replace with Borough value\n",
    "df['Neighborhood']=df['Neighborhood'].replace('Not assigned', df['Borough'])\n",
    "\n",
    "# df.head()\n",
    "df.shape"
   ]
  },
  {
   "cell_type": "code",
   "execution_count": 12,
   "metadata": {},
   "outputs": [],
   "source": [
    "#Import file with latitude and longitude for each postal code\n",
    "\n",
    "# postal_code = pd.read_csv(\"C:/Users/siris/Downloads/Geospatial_Coordinates.csv\")\n",
    "# postal_code.head()\n",
    "\n",
    "#Currently, I won't need this file as I am using geocoder.arcgis and not geocoder.google"
   ]
  },
  {
   "cell_type": "markdown",
   "metadata": {},
   "source": [
    "# Install geocoder"
   ]
  },
  {
   "cell_type": "code",
   "execution_count": 5,
   "metadata": {},
   "outputs": [
    {
     "name": "stdout",
     "output_type": "stream",
     "text": [
      "Requirement already satisfied: geocoder in c:\\users\\siris\\anaconda3\\lib\\site-packages (1.38.1)\n",
      "Requirement already satisfied: future in c:\\users\\siris\\anaconda3\\lib\\site-packages (from geocoder) (0.17.1)\n",
      "Requirement already satisfied: six in c:\\users\\siris\\anaconda3\\lib\\site-packages (from geocoder) (1.12.0)\n",
      "Requirement already satisfied: requests in c:\\users\\siris\\anaconda3\\lib\\site-packages (from geocoder) (2.21.0)\n",
      "Requirement already satisfied: click in c:\\users\\siris\\anaconda3\\lib\\site-packages (from geocoder) (7.0)\n",
      "Requirement already satisfied: ratelim in c:\\users\\siris\\anaconda3\\lib\\site-packages (from geocoder) (0.1.6)\n",
      "Requirement already satisfied: chardet<3.1.0,>=3.0.2 in c:\\users\\siris\\anaconda3\\lib\\site-packages (from requests->geocoder) (3.0.4)\n",
      "Requirement already satisfied: idna<2.9,>=2.5 in c:\\users\\siris\\anaconda3\\lib\\site-packages (from requests->geocoder) (2.8)\n",
      "Requirement already satisfied: certifi>=2017.4.17 in c:\\users\\siris\\anaconda3\\lib\\site-packages (from requests->geocoder) (2019.3.9)\n",
      "Requirement already satisfied: urllib3<1.25,>=1.21.1 in c:\\users\\siris\\anaconda3\\lib\\site-packages (from requests->geocoder) (1.24.1)\n",
      "Requirement already satisfied: decorator in c:\\users\\siris\\anaconda3\\lib\\site-packages (from ratelim->geocoder) (4.4.0)\n",
      "geocoder installed\n"
     ]
    }
   ],
   "source": [
    "!pip install geocoder\n",
    "\n",
    "print('geocoder installed')"
   ]
  },
  {
   "cell_type": "code",
   "execution_count": 6,
   "metadata": {},
   "outputs": [
    {
     "name": "stdout",
     "output_type": "stream",
     "text": [
      "function defined\n"
     ]
    }
   ],
   "source": [
    "#Using the Geocoder Python package\n",
    "import geocoder\n",
    "\n",
    "#define the geocoder function\n",
    "def get_geocoder(postal_code_from_df):\n",
    "    lat_lng_coords = None  # initialize your variable to None\n",
    "    # loop until you get the coordinates\n",
    "    while(lat_lng_coords is None):\n",
    "          g = geocoder.arcgis('{}, Toronto, Ontario'.format(postal_code_from_df))\n",
    "          lat_lng_coords = g.latlng\n",
    "    latitude = lat_lng_coords[0]\n",
    "    longitude = lat_lng_coords[1]\n",
    "    return latitude, longitude\n",
    "\n",
    "print('function defined')"
   ]
  },
  {
   "cell_type": "markdown",
   "metadata": {},
   "source": [
    "# Append the dataframe with the latitude and longitude"
   ]
  },
  {
   "cell_type": "code",
   "execution_count": 11,
   "metadata": {},
   "outputs": [
    {
     "data": {
      "text/html": [
       "<div>\n",
       "<style scoped>\n",
       "    .dataframe tbody tr th:only-of-type {\n",
       "        vertical-align: middle;\n",
       "    }\n",
       "\n",
       "    .dataframe tbody tr th {\n",
       "        vertical-align: top;\n",
       "    }\n",
       "\n",
       "    .dataframe thead th {\n",
       "        text-align: right;\n",
       "    }\n",
       "</style>\n",
       "<table border=\"1\" class=\"dataframe\">\n",
       "  <thead>\n",
       "    <tr style=\"text-align: right;\">\n",
       "      <th></th>\n",
       "      <th>Postal Code</th>\n",
       "      <th>Borough</th>\n",
       "      <th>Neighborhood</th>\n",
       "      <th>Latitude</th>\n",
       "      <th>Longitude</th>\n",
       "    </tr>\n",
       "  </thead>\n",
       "  <tbody>\n",
       "    <tr>\n",
       "      <th>0</th>\n",
       "      <td>M3A</td>\n",
       "      <td>North York</td>\n",
       "      <td>Parkwoods</td>\n",
       "      <td>43.752935</td>\n",
       "      <td>-79.335641</td>\n",
       "    </tr>\n",
       "    <tr>\n",
       "      <th>1</th>\n",
       "      <td>M4A</td>\n",
       "      <td>North York</td>\n",
       "      <td>Victoria Village</td>\n",
       "      <td>43.728102</td>\n",
       "      <td>-79.311890</td>\n",
       "    </tr>\n",
       "    <tr>\n",
       "      <th>2</th>\n",
       "      <td>M5A</td>\n",
       "      <td>Downtown Toronto</td>\n",
       "      <td>Regent Park, Harbourfront</td>\n",
       "      <td>43.650964</td>\n",
       "      <td>-79.353041</td>\n",
       "    </tr>\n",
       "    <tr>\n",
       "      <th>3</th>\n",
       "      <td>M6A</td>\n",
       "      <td>North York</td>\n",
       "      <td>Lawrence Manor, Lawrence Heights</td>\n",
       "      <td>43.723265</td>\n",
       "      <td>-79.451211</td>\n",
       "    </tr>\n",
       "    <tr>\n",
       "      <th>4</th>\n",
       "      <td>M7A</td>\n",
       "      <td>Downtown Toronto</td>\n",
       "      <td>Queen's Park, Ontario Provincial Government</td>\n",
       "      <td>43.661790</td>\n",
       "      <td>-79.389390</td>\n",
       "    </tr>\n",
       "  </tbody>\n",
       "</table>\n",
       "</div>"
      ],
      "text/plain": [
       "  Postal Code            Borough  \\\n",
       "0        M3A\n",
       "        North York\n",
       "   \n",
       "1        M4A\n",
       "        North York\n",
       "   \n",
       "2        M5A\n",
       "  Downtown Toronto\n",
       "   \n",
       "3        M6A\n",
       "        North York\n",
       "   \n",
       "4        M7A\n",
       "  Downtown Toronto\n",
       "   \n",
       "\n",
       "                                   Neighborhood   Latitude  Longitude  \n",
       "0                                    Parkwoods\n",
       "  43.752935 -79.335641  \n",
       "1                             Victoria Village\n",
       "  43.728102 -79.311890  \n",
       "2                    Regent Park, Harbourfront\n",
       "  43.650964 -79.353041  \n",
       "3             Lawrence Manor, Lawrence Heights\n",
       "  43.723265 -79.451211  \n",
       "4  Queen's Park, Ontario Provincial Government\n",
       "  43.661790 -79.389390  "
      ]
     },
     "execution_count": 11,
     "metadata": {},
     "output_type": "execute_result"
    }
   ],
   "source": [
    "#creating new dataframe\n",
    "TorontoDF = df\n",
    "\n",
    "#creating new columns latitude and longitude and generating the values for them by using the get_geocoder function and passing the postal code\n",
    "TorontoDF['Latitude'], TorontoDF['Longitude'] = zip(*TorontoDF['Postal Code'].apply(get_geocoder)) \n",
    "TorontoDF.head()"
   ]
  }
 ],
 "metadata": {
  "kernelspec": {
   "display_name": "Python 3",
   "language": "python",
   "name": "python3"
  },
  "language_info": {
   "codemirror_mode": {
    "name": "ipython",
    "version": 3
   },
   "file_extension": ".py",
   "mimetype": "text/x-python",
   "name": "python",
   "nbconvert_exporter": "python",
   "pygments_lexer": "ipython3",
   "version": "3.7.3"
  }
 },
 "nbformat": 4,
 "nbformat_minor": 2
}
